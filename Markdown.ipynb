{
  "nbformat": 4,
  "nbformat_minor": 0,
  "metadata": {
    "colab": {
      "name": "Markdown",
      "provenance": [],
      "collapsed_sections": [],
      "authorship_tag": "ABX9TyNgSC2NwCEhlru1dALHgEoM",
      "include_colab_link": true
    },
    "kernelspec": {
      "name": "python3",
      "display_name": "Python 3"
    }
  },
  "cells": [
    {
      "cell_type": "markdown",
      "metadata": {
        "id": "view-in-github",
        "colab_type": "text"
      },
      "source": [
        "<a href=\"https://colab.research.google.com/github/dvi-dev/Markdown/blob/master/Markdown.ipynb\" target=\"_parent\"><img src=\"https://colab.research.google.com/assets/colab-badge.svg\" alt=\"Open In Colab\"/></a>"
      ]
    },
    {
      "cell_type": "markdown",
      "metadata": {
        "id": "TX778AOvro6v",
        "colab_type": "text"
      },
      "source": [
        "#Пример использования Markdown\n",
        "\n",
        "Нужно сделать:\n",
        "\n",
        "  1. Cписок.\n",
        "  2. Рисунок.\n",
        "  3. Таблицу.\n",
        "  4. Сылку.\n",
        "\n",
        "![](https://www.nstu.ru/static_files/66130/1.jpg)\n",
        "\n",
        "|A|B|C|\n",
        "|----|----|----|\n",
        "|11|22|33|\n",
        "\n",
        "[Ссылка на руководство по Markdown](https://www.lifehacker.ru)\n",
        "\n",
        "\n",
        "\n",
        "\n"
      ]
    }
  ]
}